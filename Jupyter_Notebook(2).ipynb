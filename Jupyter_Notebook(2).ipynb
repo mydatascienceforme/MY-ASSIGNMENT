{
 "cells": [
  {
   "cell_type": "markdown",
   "metadata": {},
   "source": [
    "<center>\n",
    "    <img src=\"https://cf-courses-data.s3.us.cloud-object-storage.appdomain.cloud/IBMDeveloperSkillsNetwork-DS0105EN-SkillsNetwork/labs/Module2/images/SN_web_lightmode.png\" width=\"300\" alt=\"cognitiveclass.ai logo\">\n",
    "</center>\n"
   ]
  },
  {
   "cell_type": "markdown",
   "metadata": {},
   "source": [
    "#### Add your code below following the instructions given in the course\n"
   ]
  },
  {
   "cell_type": "markdown",
   "metadata": {},
   "source": [
    "# My Jupyter Notebook on IBM Watson Studio"
   ]
  },
  {
   "cell_type": "markdown",
   "metadata": {},
   "source": [
    "# OSOWA STEPHANIE TEJIRI\n",
    "  Health Data Scientist"
   ]
  },
  {
   "cell_type": "markdown",
   "metadata": {},
   "source": [
    "*I am interested in data science because with it, i would be able to manipulate any kind and form of data both structured and unstructured, to produce information that develops healthcare.* "
   ]
  },
  {
   "cell_type": "markdown",
   "metadata": {},
   "source": [
    "### I am creating a dataframe using R programming language that shows high risk population of cardiovascular diseases based on certain risk factors like age, body mass index, predominance of hypertension and cholesterol levels."
   ]
  },
  {
   "cell_type": "code",
   "execution_count": 8,
   "metadata": {},
   "outputs": [
    {
     "name": "stdout",
     "output_type": "stream",
     "text": [
      "  Gender Age  BMI           Hypertension Cholesterol      Status\n",
      "1      F  18 24.6        no hypertension         157     no risk\n",
      "2      M  35 27.5 secondary hypertension         190    low risk\n",
      "3      F  40 30.3   primary hypertension         200 medium risk\n",
      "4      F  38 34.5   primary hypertension         220   high risk\n",
      "5      M  45 43.5   primary hypertension         250   high risk\n"
     ]
    }
   ],
   "source": [
    "CVDPREDICTION = data.frame (Gender = c('F', 'M', 'F', 'F', 'M'), Age = c(18,35,40, 38, 45), BMI = c(24.6, 27.5, 30.3, 34.5, 43.5),\n",
    "                             Hypertension = c('no hypertension', 'secondary hypertension', 'primary hypertension', 'primary hypertension', 'primary hypertension'),\n",
    "                             Cholesterol = c(157, 190, 200, 220, 250), Status = c('no risk', 'low risk', 'medium risk', 'high risk', 'high risk')\n",
    "                            )\n",
    "                         \n",
    "                  print(CVDPREDICTION)           "
   ]
  },
  {
   "cell_type": "markdown",
   "metadata": {},
   "source": [
    "My Analysis\n",
    "_____________________________                                                                    \n",
    "\n",
    "| Risk Status | Risk Variables                                                                |      \n",
    "|   :---      |    :----:                                                                     |         \n",
    "| Low Risk    | No Hypertension, Cholesterol less than 200mg/dl and bmi less than 25kg/m2     |      \n",
    "| High Risk   | Hypertension, Cholesterol greater than 200mg/dl and bmi greater than 25kg/m2  | \n",
    "\n",
    "\n",
    "* Only 20% of the distribution is at a low risk of developing a cardiovascular disease.\n"
   ]
  },
  {
   "cell_type": "code",
   "execution_count": null,
   "metadata": {},
   "outputs": [],
   "source": []
  }
 ],
 "metadata": {
  "kernelspec": {
   "display_name": "R",
   "language": "R",
   "name": "conda-env-r-r"
  },
  "language_info": {
   "codemirror_mode": "r",
   "file_extension": ".r",
   "mimetype": "text/x-r-source",
   "name": "R",
   "pygments_lexer": "r",
   "version": "3.5.1"
  }
 },
 "nbformat": 4,
 "nbformat_minor": 4
}
